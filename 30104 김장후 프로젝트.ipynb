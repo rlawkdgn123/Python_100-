{
 "cells": [
  {
   "cell_type": "markdown",
   "metadata": {},
   "source": [
    "# 30104 김장후\n",
    "## 주제: 인천광역시 군구별 자전거보관대수\n",
    "### 데이터 출처: https://www.data.go.kr/data/15045164/fileData.do\n",
    "\n",
    "#### 파일 정보 내용\n",
    "- 파일데이터명:\t인천광역시_군구별 자전거보관대수_20181231\n",
    "\n",
    "- 분류체계:\t교통및물류 - 물류등기타\n",
    "\n",
    "- 제공기관: 인천광역시\n",
    "\n",
    "- 관리부서명\t: 데이터혁신담당관\n",
    "\n",
    "- 키워드:\t자전거, 도로, 인천\n",
    "\n",
    "- 등록:\t2019-08-30\n",
    "\n",
    "### 목적: 자전거 보관대 대수가 지역별로 차이가 심한지에 대해 알아보기"
   ]
  },
  {
   "cell_type": "code",
   "execution_count": 70,
   "metadata": {},
   "outputs": [],
   "source": [
    "import pandas as pd\n",
    "import matplotlib.pyplot as plt\n",
    "import numpy as np\n",
    "from matplotlib import rc\n",
    "import matplotlib.font_manager as fm\n",
    "\n",
    "path = r'C:\\Users\\user\\Desktop\\인천광역시_군구별 자전거보관대수_20181231.csv'"
   ]
  },
  {
   "cell_type": "code",
   "execution_count": 71,
   "metadata": {},
   "outputs": [],
   "source": [
    "rc('font',family='gulim')"
   ]
  },
  {
   "cell_type": "code",
   "execution_count": 72,
   "metadata": {},
   "outputs": [
    {
     "data": {
      "text/html": [
       "<div>\n",
       "<style scoped>\n",
       "    .dataframe tbody tr th:only-of-type {\n",
       "        vertical-align: middle;\n",
       "    }\n",
       "\n",
       "    .dataframe tbody tr th {\n",
       "        vertical-align: top;\n",
       "    }\n",
       "\n",
       "    .dataframe thead th {\n",
       "        text-align: right;\n",
       "    }\n",
       "</style>\n",
       "<table border=\"1\" class=\"dataframe\">\n",
       "  <thead>\n",
       "    <tr style=\"text-align: right;\">\n",
       "      <th></th>\n",
       "      <th>군구</th>\n",
       "      <th>대중교통주변 개소</th>\n",
       "      <th>대중교통 주변 보관대수</th>\n",
       "      <th>학교,도서관 주변 개소</th>\n",
       "      <th>학교,도서관 주변 보관대수</th>\n",
       "      <th>공공기관(아파트단지 포함) 주변 개소</th>\n",
       "      <th>공공기관(아파트단지 포함) 주변 보관대수</th>\n",
       "    </tr>\n",
       "  </thead>\n",
       "  <tbody>\n",
       "    <tr>\n",
       "      <td>0</td>\n",
       "      <td>중 구</td>\n",
       "      <td>13.0</td>\n",
       "      <td>840.0</td>\n",
       "      <td>16.0</td>\n",
       "      <td>314.0</td>\n",
       "      <td>41.0</td>\n",
       "      <td>635.0</td>\n",
       "    </tr>\n",
       "    <tr>\n",
       "      <td>1</td>\n",
       "      <td>동 구</td>\n",
       "      <td>3.0</td>\n",
       "      <td>177.0</td>\n",
       "      <td>7.0</td>\n",
       "      <td>209.0</td>\n",
       "      <td>6.0</td>\n",
       "      <td>48.0</td>\n",
       "    </tr>\n",
       "    <tr>\n",
       "      <td>2</td>\n",
       "      <td>미추홀구</td>\n",
       "      <td>12.0</td>\n",
       "      <td>536.0</td>\n",
       "      <td>12.0</td>\n",
       "      <td>390.0</td>\n",
       "      <td>33.0</td>\n",
       "      <td>319.0</td>\n",
       "    </tr>\n",
       "    <tr>\n",
       "      <td>3</td>\n",
       "      <td>연수구</td>\n",
       "      <td>64.0</td>\n",
       "      <td>923.0</td>\n",
       "      <td>97.0</td>\n",
       "      <td>834.0</td>\n",
       "      <td>239.0</td>\n",
       "      <td>1581.0</td>\n",
       "    </tr>\n",
       "    <tr>\n",
       "      <td>4</td>\n",
       "      <td>남동구</td>\n",
       "      <td>46.0</td>\n",
       "      <td>760.0</td>\n",
       "      <td>26.0</td>\n",
       "      <td>557.0</td>\n",
       "      <td>32.0</td>\n",
       "      <td>576.0</td>\n",
       "    </tr>\n",
       "    <tr>\n",
       "      <td>5</td>\n",
       "      <td>부평구</td>\n",
       "      <td>48.0</td>\n",
       "      <td>2264.0</td>\n",
       "      <td>21.0</td>\n",
       "      <td>1448.0</td>\n",
       "      <td>144.0</td>\n",
       "      <td>2984.0</td>\n",
       "    </tr>\n",
       "    <tr>\n",
       "      <td>6</td>\n",
       "      <td>계양구</td>\n",
       "      <td>36.0</td>\n",
       "      <td>648.0</td>\n",
       "      <td>40.0</td>\n",
       "      <td>1565.0</td>\n",
       "      <td>46.0</td>\n",
       "      <td>652.0</td>\n",
       "    </tr>\n",
       "    <tr>\n",
       "      <td>7</td>\n",
       "      <td>서 구</td>\n",
       "      <td>80.0</td>\n",
       "      <td>1269.0</td>\n",
       "      <td>65.0</td>\n",
       "      <td>880.0</td>\n",
       "      <td>841.0</td>\n",
       "      <td>7855.0</td>\n",
       "    </tr>\n",
       "    <tr>\n",
       "      <td>8</td>\n",
       "      <td>강화군</td>\n",
       "      <td>2.0</td>\n",
       "      <td>3.0</td>\n",
       "      <td>6.0</td>\n",
       "      <td>48.0</td>\n",
       "      <td>38.0</td>\n",
       "      <td>55.0</td>\n",
       "    </tr>\n",
       "    <tr>\n",
       "      <td>9</td>\n",
       "      <td>옹진군</td>\n",
       "      <td>NaN</td>\n",
       "      <td>NaN</td>\n",
       "      <td>NaN</td>\n",
       "      <td>NaN</td>\n",
       "      <td>NaN</td>\n",
       "      <td>NaN</td>\n",
       "    </tr>\n",
       "  </tbody>\n",
       "</table>\n",
       "</div>"
      ],
      "text/plain": [
       "     군구  대중교통주변 개소  대중교통 주변 보관대수  학교,도서관 주변 개소  학교,도서관 주변 보관대수  \\\n",
       "0   중 구       13.0         840.0          16.0           314.0   \n",
       "1   동 구        3.0         177.0           7.0           209.0   \n",
       "2  미추홀구       12.0         536.0          12.0           390.0   \n",
       "3   연수구       64.0         923.0          97.0           834.0   \n",
       "4   남동구       46.0         760.0          26.0           557.0   \n",
       "5   부평구       48.0        2264.0          21.0          1448.0   \n",
       "6   계양구       36.0         648.0          40.0          1565.0   \n",
       "7   서 구       80.0        1269.0          65.0           880.0   \n",
       "8   강화군        2.0           3.0           6.0            48.0   \n",
       "9   옹진군        NaN           NaN           NaN             NaN   \n",
       "\n",
       "   공공기관(아파트단지 포함) 주변 개소  공공기관(아파트단지 포함) 주변 보관대수  \n",
       "0                  41.0                   635.0  \n",
       "1                   6.0                    48.0  \n",
       "2                  33.0                   319.0  \n",
       "3                 239.0                  1581.0  \n",
       "4                  32.0                   576.0  \n",
       "5                 144.0                  2984.0  \n",
       "6                  46.0                   652.0  \n",
       "7                 841.0                  7855.0  \n",
       "8                  38.0                    55.0  \n",
       "9                   NaN                     NaN  "
      ]
     },
     "execution_count": 72,
     "metadata": {},
     "output_type": "execute_result"
    }
   ],
   "source": [
    "df=pd.read_csv(path,encoding='cp949')\n",
    "\n",
    "df"
   ]
  },
  {
   "cell_type": "code",
   "execution_count": 84,
   "metadata": {},
   "outputs": [
    {
     "data": {
      "text/plain": [
       "<matplotlib.legend.Legend at 0x1d821a61e48>"
      ]
     },
     "execution_count": 84,
     "metadata": {},
     "output_type": "execute_result"
    },
    {
     "data": {
      "image/png": "[encoded data removed]",
      "text/plain": [
       "<Figure size 432x288 with 1 Axes>"
      ]
     },
     "metadata": {
      "needs_background": "light"
     },
     "output_type": "display_data"
    }
   ],
   "source": [
    "x=df['군구'].head(12)\n",
    "y=df['대중교통 주변 보관대수'].head(12)\n",
    "z=df['학교,도서관 주변 보관대수'].head(12)\n",
    "plt.plot(x,y,z)\n",
    "\n",
    "plt.xlabel('군구')\n",
    "plt.ylabel('자전거 보관대')\n",
    "plt.title('인천 자전거 보관대수')\n",
    "plt.legend(['대중교통 주변','학교,도서관 주변'])"
   ]
  },
  {
   "cell_type": "code",
   "execution_count": 104,
   "metadata": {},
   "outputs": [
    {
     "data": {
      "text/plain": [
       "<matplotlib.legend.Legend at 0x1d8239f30c8>"
      ]
     },
     "execution_count": 104,
     "metadata": {},
     "output_type": "execute_result"
    },
    {
     "data": {
      "image/png": "[encoded data removed]",
      "text/plain": [
       "<Figure size 1512x360 with 1 Axes>"
      ]
     },
     "metadata": {
      "needs_background": "light"
     },
     "output_type": "display_data"
    }
   ],
   "source": [
    "plt.bar(x,y)\n",
    "plt.plot(x,z)\n",
    "\n",
    "plt.rcParams[\"figure.figsize\"]=(21,5)\n",
    "plt.xlabel('군구')\n",
    "plt.ylabel('자전거 보관대')\n",
    "plt.title('인천 자전거 보관대수')\n",
    "plt.legend(['대중교통 주변','학교,도서관 주변'])"
   ]
  },
  {
   "cell_type": "markdown",
   "metadata": {},
   "source": [
    "- 강화군에 자전거 보관대가 없다\n",
    "- 각 구마다의 보관대 차이가 크다는 것을 알게 되었다.\n",
    "- 이렇게 지역마다 크게 다른 부분을 보면 각 지역마다 시설의 수준차이가 있는 것 같았다.\n",
    "- 이에 따라 차트를 이용하여 지원량을 다르게 하면 될 것 같다."
   ]
  }
 ],
 "metadata": {
  "kernelspec": {
   "display_name": "Python 3",
   "language": "python",
   "name": "python3"
  },
  "language_info": {
   "codemirror_mode": {
    "name": "ipython",
    "version": 3
   },
   "file_extension": ".py",
   "mimetype": "text/x-python",
   "name": "python",
   "nbconvert_exporter": "python",
   "pygments_lexer": "ipython3",
   "version": "3.7.4"
  }
 },
 "nbformat": 4,
 "nbformat_minor": 2
}
